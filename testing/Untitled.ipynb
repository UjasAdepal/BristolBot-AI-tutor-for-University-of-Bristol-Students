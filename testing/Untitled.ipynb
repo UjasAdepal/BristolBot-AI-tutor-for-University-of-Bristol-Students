{
 "cells": [
  {
   "cell_type": "code",
   "execution_count": 5,
   "id": "ee993ca6",
   "metadata": {},
   "outputs": [
    {
     "ename": "TypeError",
     "evalue": "list indices must be integers or slices, not str",
     "output_type": "error",
     "traceback": [
      "\u001b[1;31m---------------------------------------------------------------------------\u001b[0m",
      "\u001b[1;31mTypeError\u001b[0m                                 Traceback (most recent call last)",
      "Input \u001b[1;32mIn [5]\u001b[0m, in \u001b[0;36m<cell line: 13>\u001b[1;34m()\u001b[0m\n\u001b[0;32m     10\u001b[0m     data \u001b[38;5;241m=\u001b[39m json\u001b[38;5;241m.\u001b[39mload(f)\n\u001b[0;32m     12\u001b[0m \u001b[38;5;66;03m# Extracting the real and AI answers from the JSON file\u001b[39;00m\n\u001b[1;32m---> 13\u001b[0m real_answer \u001b[38;5;241m=\u001b[39m \u001b[43mdata\u001b[49m\u001b[43m[\u001b[49m\u001b[38;5;124;43m\"\u001b[39;49m\u001b[38;5;124;43manswer\u001b[39;49m\u001b[38;5;124;43m\"\u001b[39;49m\u001b[43m]\u001b[49m\n\u001b[0;32m     14\u001b[0m ai_answer \u001b[38;5;241m=\u001b[39m data[\u001b[38;5;124m\"\u001b[39m\u001b[38;5;124mAI\u001b[39m\u001b[38;5;124m\"\u001b[39m]\n\u001b[0;32m     16\u001b[0m \u001b[38;5;66;03m# Vectorizing the text using TF-IDF\u001b[39;00m\n",
      "\u001b[1;31mTypeError\u001b[0m: list indices must be integers or slices, not str"
     ]
    }
   ],
   "source": [
    "import json\n",
    "from sklearn.feature_extraction.text import TfidfVectorizer\n",
    "from sklearn.metrics.pairwise import cosine_similarity\n",
    "from nltk.translate.bleu_score import sentence_bleu\n",
    "from rouge_score import rouge_scorer  # Correct import for ROUGE\n",
    "from nltk import word_tokenize\n",
    "\n",
    "# Load the data from x.json file\n",
    "with open('test_questions.json', 'r') as f:\n",
    "    data = json.load(f)\n",
    "\n",
    "# Extracting the real and AI answers from the JSON file\n",
    "real_answer = data[\"answer\"]\n",
    "ai_answer = data[\"AI\"]\n",
    "\n",
    "# Vectorizing the text using TF-IDF\n",
    "vectorizer = TfidfVectorizer().fit_transform([real_answer, ai_answer])\n",
    "cosine_sim = cosine_similarity(vectorizer[0:1], vectorizer[1:2])\n",
    "\n",
    "# BLEU score (precision-based metric)\n",
    "real_answer_tokens = word_tokenize(real_answer.lower())\n",
    "ai_answer_tokens = word_tokenize(ai_answer.lower())\n",
    "bleu_score = sentence_bleu([real_answer_tokens], ai_answer_tokens)\n",
    "\n",
    "# ROUGE score (recall-based metric)\n",
    "scorer = rouge_scorer.RougeScorer(['rouge1', 'rouge2', 'rougeL'], use_stemmer=True)\n",
    "rouge_scores = scorer.score(real_answer, ai_answer)\n",
    "\n",
    "# Jaccard Similarity (set-based overlap)\n",
    "real_set = set(real_answer.lower().split())\n",
    "ai_set = set(ai_answer.lower().split())\n",
    "jaccard_similarity = len(real_set.intersection(ai_set)) / len(real_set.union(ai_set))\n",
    "\n",
    "# Word Overlap / Exact Match (counting matching words)\n",
    "exact_match = len(set(real_answer.lower().split()).intersection(set(ai_answer.lower().split())))\n",
    "\n",
    "# Output the results\n",
    "print(f\"Cosine Similarity: {cosine_sim[0][0]:.4f}\")\n",
    "print(f\"BLEU Score: {bleu_score:.4f}\")\n",
    "print(f\"ROUGE Scores: {rouge_scores}\")\n",
    "print(f\"Jaccard Similarity: {jaccard_similarity:.4f}\")\n",
    "print(f\"Exact Word Match Count: {exact_match}\")\n"
   ]
  },
  {
   "cell_type": "code",
   "execution_count": 8,
   "id": "5acfc207",
   "metadata": {},
   "outputs": [
    {
     "name": "stdout",
     "output_type": "stream",
     "text": [
      "Cosine Similarity: 0.5467\n",
      "ROUGE Scores: {'rouge1': Score(precision=0.5652173913043478, recall=0.6341463414634146, fmeasure=0.5977011494252873), 'rouge2': Score(precision=0.3333333333333333, recall=0.375, fmeasure=0.35294117647058826), 'rougeL': Score(precision=0.45652173913043476, recall=0.5121951219512195, fmeasure=0.48275862068965514)}\n",
      "Exact Word Match Count: 18\n"
     ]
    }
   ],
   "source": [
    "import json\n",
    "from sklearn.feature_extraction.text import TfidfVectorizer\n",
    "from sklearn.metrics.pairwise import cosine_similarity\n",
    "from nltk.translate.bleu_score import sentence_bleu\n",
    "from rouge_score import rouge_scorer  # Correct import for ROUGE\n",
    "from nltk import word_tokenize\n",
    "\n",
    "# Load the data from x.json file\n",
    "with open('test_questions.json', 'r') as f:\n",
    "    data = json.load(f)\n",
    "\n",
    "# Assuming that the data is a list and we need to access the first item in it\n",
    "entry = data[0]  # Accessing the first dictionary in the list\n",
    "\n",
    "# Extracting the real and AI answers from the first entry\n",
    "real_answer = entry[\"answer\"]\n",
    "ai_answer = entry[\"AI\"]\n",
    "\n",
    "# Vectorizing the text using TF-IDF\n",
    "vectorizer = TfidfVectorizer().fit_transform([real_answer, ai_answer])\n",
    "cosine_sim = cosine_similarity(vectorizer[0:1], vectorizer[1:2])\n",
    "\n",
    "# ROUGE score (recall-based metric)\n",
    "scorer = rouge_scorer.RougeScorer(['rouge1', 'rouge2', 'rougeL'], use_stemmer=True)\n",
    "rouge_scores = scorer.score(real_answer, ai_answer)\n",
    "\n",
    "# Word Overlap / Exact Match (counting matching words)\n",
    "exact_match = len(set(real_answer.lower().split()).intersection(set(ai_answer.lower().split())))\n",
    "\n",
    "# Output the results\n",
    "print(f\"Cosine Similarity: {cosine_sim[0][0]:.4f}\")\n",
    "print(f\"ROUGE Scores: {rouge_scores}\")\n",
    "print(f\"Exact Word Match Count: {exact_match}\")\n"
   ]
  },
  {
   "cell_type": "markdown",
   "id": "2cafdcca",
   "metadata": {},
   "source": [
    "ROUGE-1 measures word overlap (unigrams).\n",
    "\n",
    "ROUGE-2 measures word pair (bigrams) overlap.\n",
    "\n",
    "ROUGE-L focuses on the longest common subsequence, which accounts for order.\n",
    "\n",
    "Other variants like ROUGE-W, ROUGE-S, and ROUGE-SU add additional layers of complexity, such as weighting and considering skip-bigrams."
   ]
  },
  {
   "cell_type": "code",
   "execution_count": 9,
   "id": "80c4c997",
   "metadata": {},
   "outputs": [
    {
     "name": "stdout",
     "output_type": "stream",
     "text": [
      "\n",
      "\n"
     ]
    },
    {
     "data": {
      "text/markdown": [
       "### ❓ Question:\n",
       "What is a UCAS ID"
      ],
      "text/plain": [
       "<IPython.core.display.Markdown object>"
      ]
     },
     "metadata": {},
     "output_type": "display_data"
    },
    {
     "data": {
      "text/markdown": [
       "**✅ Ground Truth Answer:**\n",
       "The UCAS ID (also known as UCAS Personal ID) is a 10-digit number assigned to you when you register with UCAS (Universities and Colleges Admissions Service) in the UK. It’s your unique identifier used throughout the university application process."
      ],
      "text/plain": [
       "<IPython.core.display.Markdown object>"
      ]
     },
     "metadata": {},
     "output_type": "display_data"
    },
    {
     "data": {
      "text/markdown": [
       "**🤖 AI Answer:**\n",
       "A UCAS ID is a unique identification number assigned to each applicant when they apply for higher education courses through the Universities and Colleges Admissions Service (UCAS) in the UK. This ID is used throughout the application process to track and manage the applicant's information."
      ],
      "text/plain": [
       "<IPython.core.display.Markdown object>"
      ]
     },
     "metadata": {},
     "output_type": "display_data"
    },
    {
     "name": "stdout",
     "output_type": "stream",
     "text": [
      "Relevance (1-5): 5\n",
      "Completeness (1-5): 5\n",
      "Factual? (Y/N): 5\n",
      "Comments: 5\n",
      "\n",
      "\n"
     ]
    },
    {
     "data": {
      "text/markdown": [
       "### ❓ Question:\n",
       "How do I apply for postgraduate taught programmes at the University of Bristol?"
      ],
      "text/plain": [
       "<IPython.core.display.Markdown object>"
      ]
     },
     "metadata": {},
     "output_type": "display_data"
    },
    {
     "data": {
      "text/markdown": [
       "**✅ Ground Truth Answer:**\n",
       "To apply for a postgraduate taught programme at the University of Bristol, first choose your course from their Postgraduate Taught Programmes page and check the specific entry requirements listed in the admissions statement. Then, prepare your supporting documents such as academic transcripts, degree certificates, and proof of English proficiency if required. Finally, submit your application directly through the University of Bristol’s online application portal."
      ],
      "text/plain": [
       "<IPython.core.display.Markdown object>"
      ]
     },
     "metadata": {},
     "output_type": "display_data"
    },
    {
     "data": {
      "text/markdown": [
       "**🤖 AI Answer:**\n",
       "To apply for postgraduate taught programmes at the University of Bristol, you will need to visit the university's official website and navigate to the admissions section. There, you will find detailed instructions on how to apply, including the application deadlines, required documents, and any specific criteria for each programme. Be sure to carefully review the information provided and follow the application guidelines to ensure your application is considered for admission. If you have any specific questions or need further assistance, you can also reach out to the university's admissions office for support."
      ],
      "text/plain": [
       "<IPython.core.display.Markdown object>"
      ]
     },
     "metadata": {},
     "output_type": "display_data"
    },
    {
     "name": "stdout",
     "output_type": "stream",
     "text": [
      "Relevance (1-5): 5\n",
      "Completeness (1-5): 5\n",
      "Factual? (Y/N): 5\n",
      "Comments: 5\n",
      "\n",
      "\n"
     ]
    },
    {
     "data": {
      "text/markdown": [
       "### ❓ Question:\n",
       "Are there any scholarships available for undergraduate international students?"
      ],
      "text/plain": [
       "<IPython.core.display.Markdown object>"
      ]
     },
     "metadata": {},
     "output_type": "display_data"
    },
    {
     "data": {
      "text/markdown": [
       "**✅ Ground Truth Answer:**\n",
       "Yes, the University of Bristol offers scholarships for international undergraduate students, including the prestigious Think Big Undergraduate Scholarships worth £6,500 or £13,000 per year towards tuition fees. There are also subject-specific awards like those for Economics, Law, and Childhood Studies. Additionally, students applying through the Global Transfer Programme may be eligible for a £3,000 bursary. You can apply for these through a single application form."
      ],
      "text/plain": [
       "<IPython.core.display.Markdown object>"
      ]
     },
     "metadata": {},
     "output_type": "display_data"
    },
    {
     "data": {
      "text/markdown": [
       "**🤖 AI Answer:**\n",
       "Yes, there are scholarships available for undergraduate international students at the University of Bristol. The university offers a range of scholarships specifically for international students, including the Think Big Undergraduate Scholarships and the Global Accounting and Finance Scholarship. It is recommended to visit the university's official website or contact the admissions office for more information on available scholarships and eligibility criteria."
      ],
      "text/plain": [
       "<IPython.core.display.Markdown object>"
      ]
     },
     "metadata": {},
     "output_type": "display_data"
    },
    {
     "name": "stdout",
     "output_type": "stream",
     "text": [
      "Relevance (1-5): 5\n",
      "Completeness (1-5): 5\n",
      "Factual? (Y/N): 5\n",
      "Comments: 5\n",
      "\n",
      "\n"
     ]
    },
    {
     "data": {
      "text/markdown": [
       "### ❓ Question:\n",
       "Can international students work part-time while studying?"
      ],
      "text/plain": [
       "<IPython.core.display.Markdown object>"
      ]
     },
     "metadata": {},
     "output_type": "display_data"
    },
    {
     "data": {
      "text/markdown": [
       "**✅ Ground Truth Answer:**\n",
       "Yes, international students in the UK on a Student visa can work part-time during their studies. Typically, you're allowed to work up to 20 hours per week during term time and full-time during vacations, as long as it doesn’t interfere with your studies. Make sure to check the exact conditions on your visa and follow university guidelines."
      ],
      "text/plain": [
       "<IPython.core.display.Markdown object>"
      ]
     },
     "metadata": {},
     "output_type": "display_data"
    },
    {
     "data": {
      "text/markdown": [
       "**🤖 AI Answer:**\n",
       "Yes, international students can work part-time while studying in many countries. However, the specific rules and regulations regarding working as an international student can vary depending on the country. It's important for international students to check with their institution and the local government to understand the limitations and requirements for working part-time while studying."
      ],
      "text/plain": [
       "<IPython.core.display.Markdown object>"
      ]
     },
     "metadata": {},
     "output_type": "display_data"
    },
    {
     "name": "stdout",
     "output_type": "stream",
     "text": [
      "Relevance (1-5): \n"
     ]
    },
    {
     "ename": "ValueError",
     "evalue": "invalid literal for int() with base 10: ''",
     "output_type": "error",
     "traceback": [
      "\u001b[1;31m---------------------------------------------------------------------------\u001b[0m",
      "\u001b[1;31mValueError\u001b[0m                                Traceback (most recent call last)",
      "Input \u001b[1;32mIn [9]\u001b[0m, in \u001b[0;36m<cell line: 13>\u001b[1;34m()\u001b[0m\n\u001b[0;32m     17\u001b[0m display(Markdown(\u001b[38;5;124mf\u001b[39m\u001b[38;5;124m\"\u001b[39m\u001b[38;5;124m**🤖 AI Answer:**\u001b[39m\u001b[38;5;130;01m\\n\u001b[39;00m\u001b[38;5;132;01m{\u001b[39;00mitem[\u001b[38;5;124m'\u001b[39m\u001b[38;5;124mAI\u001b[39m\u001b[38;5;124m'\u001b[39m]\u001b[38;5;132;01m}\u001b[39;00m\u001b[38;5;124m\"\u001b[39m))\n\u001b[0;32m     19\u001b[0m \u001b[38;5;66;03m# Ask for manual input\u001b[39;00m\n\u001b[1;32m---> 20\u001b[0m relevance \u001b[38;5;241m=\u001b[39m \u001b[38;5;28;43mint\u001b[39;49m\u001b[43m(\u001b[49m\u001b[38;5;28;43minput\u001b[39;49m\u001b[43m(\u001b[49m\u001b[38;5;124;43m\"\u001b[39;49m\u001b[38;5;124;43mRelevance (1-5): \u001b[39;49m\u001b[38;5;124;43m\"\u001b[39;49m\u001b[43m)\u001b[49m\u001b[43m)\u001b[49m\n\u001b[0;32m     21\u001b[0m completeness \u001b[38;5;241m=\u001b[39m \u001b[38;5;28mint\u001b[39m(\u001b[38;5;28minput\u001b[39m(\u001b[38;5;124m\"\u001b[39m\u001b[38;5;124mCompleteness (1-5): \u001b[39m\u001b[38;5;124m\"\u001b[39m))\n\u001b[0;32m     22\u001b[0m factual \u001b[38;5;241m=\u001b[39m \u001b[38;5;28minput\u001b[39m(\u001b[38;5;124m\"\u001b[39m\u001b[38;5;124mFactual? (Y/N): \u001b[39m\u001b[38;5;124m\"\u001b[39m)\n",
      "\u001b[1;31mValueError\u001b[0m: invalid literal for int() with base 10: ''"
     ]
    }
   ],
   "source": [
    "import json\n",
    "import pandas as pd\n",
    "from IPython.display import display, Markdown\n",
    "\n",
    "# Load your test data\n",
    "with open(\"test_questions.json\", \"r\", encoding=\"utf-8\") as f:\n",
    "    test_data = json.load(f)\n",
    "\n",
    "# Create empty list for scoring\n",
    "results = []\n",
    "\n",
    "# Manual scoring loop\n",
    "for item in test_data:\n",
    "    print(\"\\n\")\n",
    "    display(Markdown(f\"### ❓ Question:\\n{item['question']}\"))\n",
    "    display(Markdown(f\"**✅ Ground Truth Answer:**\\n{item['answer']}\"))\n",
    "    display(Markdown(f\"**🤖 AI Answer:**\\n{item['AI']}\"))\n",
    "\n",
    "    # Ask for manual input\n",
    "    relevance = int(input(\"Relevance (1-5): \"))\n",
    "    completeness = int(input(\"Completeness (1-5): \"))\n",
    "    factual = input(\"Factual? (Y/N): \")\n",
    "    comment = input(\"Comments: \")\n",
    "\n",
    "    results.append({\n",
    "        \"question\": item[\"question\"],\n",
    "        \"relevance\": relevance,\n",
    "        \"completeness\": completeness,\n",
    "        \"factual\": factual.upper(),\n",
    "        \"comments\": comment\n",
    "    })\n",
    "\n",
    "# Convert to DataFrame\n",
    "df = pd.DataFrame(results)\n",
    "\n",
    "# Save to CSV\n",
    "df.to_csv(\"evaluation_results_manual.csv\", index=False)\n",
    "print(\"✅ Evaluation saved to evaluation_results_manual.csv\")\n",
    "\n",
    "# Optional: display summary\n",
    "df[[\"relevance\", \"completeness\"]].describe()\n"
   ]
  },
  {
   "cell_type": "markdown",
   "id": "2be1b2b0",
   "metadata": {},
   "source": [
    "5\n",
    "5\n",
    "##### "
   ]
  }
 ],
 "metadata": {
  "kernelspec": {
   "display_name": "Python 3 (ipykernel)",
   "language": "python",
   "name": "python3"
  },
  "language_info": {
   "codemirror_mode": {
    "name": "ipython",
    "version": 3
   },
   "file_extension": ".py",
   "mimetype": "text/x-python",
   "name": "python",
   "nbconvert_exporter": "python",
   "pygments_lexer": "ipython3",
   "version": "3.9.12"
  }
 },
 "nbformat": 4,
 "nbformat_minor": 5
}
